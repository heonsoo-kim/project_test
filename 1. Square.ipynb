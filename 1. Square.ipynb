{
  "nbformat": 4,
  "nbformat_minor": 0,
  "metadata": {
    "colab": {
      "provenance": []
    },
    "kernelspec": {
      "name": "python3",
      "display_name": "Python 3"
    },
    "language_info": {
      "name": "python"
    }
  },
  "cells": [
    {
      "cell_type": "code",
      "execution_count": null,
      "metadata": {
        "id": "72RluaCvASWD"
      },
      "outputs": [],
      "source": [
        "class Square:\n",
        "    def __init__(self):\n",
        "        self.square = int(input('넓이를 구하고 싶은 사각형의 숫자를 써주세요.\\n 1.직사각형 2.평행사변형 3.사다리꼴 \\n >>> '))\n",
        "\n",
        "        if self.square == 1:\n",
        "            print('직사각형 함수는 rect()입니다.')\n",
        "            print(self.rect())  # 직사각형 함수 실행 및 출력\n",
        "\n",
        "        elif self.square == 2:\n",
        "            print('평행사변형 함수는 par()입니다.')\n",
        "            print(self.par())  # 평행사변형 함수 실행 및 출력\n",
        "\n",
        "        elif self.square == 3:\n",
        "            print('사다리꼴 함수는 trape()입니다.')\n",
        "            print(self.trape())  # 사다리꼴 함수 실행 및 출력\n",
        "\n",
        "        else:\n",
        "            print('1, 2, 3 중에서 다시 입력해주세요')\n",
        "\n",
        "    def rect(self):\n",
        "        width, vertical = map(int, input('가로, 세로를 입력하세요. 예시 : 가로,세로\\n >>> ').split(','))\n",
        "        area = width * vertical\n",
        "        return f'직사각형의 넓이는 : {area}'\n",
        "\n",
        "    def par(self):\n",
        "        base, height = map(int, input('밑변, 높이를 입력하세요. 예시 : 밑변,높이\\n >>> ').split(','))\n",
        "        area = base * height\n",
        "        return f'평행사변형의 넓이는 : {area}'\n",
        "\n",
        "    def trape(self):\n",
        "        top, bottom, height = map(int, input('윗변, 아랫변, 높이를 입력하세요. 예시 : 윗변,아랫변,높이\\n >>> ').split(','))\n",
        "        area = (top + bottom) * height / 2\n",
        "        return f'사다리꼴의 넓이는 : {area}'\n",
        "\n",
        "a = Square()"
      ]
    },
    {
      "cell_type": "code",
      "source": [],
      "metadata": {
        "id": "7iXpzKDLAjUa"
      },
      "execution_count": null,
      "outputs": []
    },
    {
      "cell_type": "code",
      "source": [],
      "metadata": {
        "id": "zWBMIYOhBkNM"
      },
      "execution_count": null,
      "outputs": []
    },
    {
      "cell_type": "code",
      "source": [],
      "metadata": {
        "id": "Ftr_tfDeBkdF"
      },
      "execution_count": null,
      "outputs": []
    },
    {
      "cell_type": "code",
      "source": [],
      "metadata": {
        "id": "2hjYQddxBkst"
      },
      "execution_count": null,
      "outputs": []
    }
  ]
}