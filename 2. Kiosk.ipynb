{
  "nbformat": 4,
  "nbformat_minor": 0,
  "metadata": {
    "colab": {
      "provenance": []
    },
    "kernelspec": {
      "name": "python3",
      "display_name": "Python 3"
    },
    "language_info": {
      "name": "python"
    }
  },
  "cells": [
    {
      "cell_type": "code",
      "execution_count": null,
      "metadata": {
        "id": "72RluaCvASWD"
      },
      "outputs": [],
      "source": [
        "class Kiosk:\n",
        "    def __init__(self):\n",
        "        self.menu = [\"HOT americano\", \"ICE latte\", \"ICE mocha\", \"ICE choco_latte\"]\n",
        "        self.price = [2000, 3000, 3000, 3000]\n",
        "        self.order_menu = []\n",
        "        self.order_price = []\n",
        "\n",
        "    def menu_print(self):\n",
        "        print(\"⟝\" + \"-\" * 30 + \"⟞\")\n",
        "        for _ in range(5):\n",
        "            print(\"|\" + \" \" * 31 + \"|\")\n",
        "        for i, (item, price) in enumerate(zip(self.menu, self.price), start=1):\n",
        "            print(f\"{i}. {item} : {price}원\")\n",
        "        print(\"⟝\" + \"-\" * 30 + \"⟞\")\n",
        "\n",
        "    def menu_select(self):\n",
        "        while True:\n",
        "            try:\n",
        "                n = int(input(\"음료 번호를 입력하세요 (0 입력 시 종료): \"))\n",
        "                if n == 0:\n",
        "                    break\n",
        "                elif 1 <= n <= len(self.menu):\n",
        "                    self.order_menu.append(self.menu[n-1])\n",
        "                    self.order_price.append(self.price[n-1])\n",
        "                    print(f\"주문 추가: {self.menu[n-1]} - {self.price[n-1]}원\")\n",
        "                else:\n",
        "                    print(\"없는 메뉴입니다. 다시 주문해 주세요.\")\n",
        "            except ValueError:\n",
        "                print(\"숫자를 입력해 주세요.\")\n",
        "\n",
        "    def table(self):\n",
        "        print('⟝' + '-' * 30 + '⟞')\n",
        "        for _ in range(5):\n",
        "            print('|' + ' ' * 31 + '|')\n",
        "\n",
        "        for item, price in zip(self.order_menu, self.order_price):\n",
        "            print(f\"{item} : {price}원\")\n",
        "\n",
        "        print(f'합계 금액 : {sum(self.order_price)}원')\n",
        "\n",
        "        for _ in range(5):\n",
        "            print('|' + ' ' * 31 + '|')\n",
        "        print('⟝' + '-' * 30 + '⟞')\n",
        "\n",
        "    def pay(self):\n",
        "        amount = sum(self.order_price)\n",
        "        print(f\"지불할 금액: {amount}원\")\n",
        "        payment_method = input(\"지불 수단을 선택하세요 (1: 현금, 2: 카드): \")\n",
        "\n",
        "        if payment_method == '1' or payment_method.lower() == 'cash':\n",
        "            print(\"직원을 호출하겠습니다.\")\n",
        "        elif payment_method == '2' or payment_method.lower() == 'card':\n",
        "            print(\"IC칩 방향에 맞게 카드를 꽂아주세요.\")\n",
        "        else:\n",
        "            print(\"다시 결제를 시도해 주세요.\")\n",
        "\n",
        "# 실행\n",
        "a = Kiosk()\n",
        "a.menu_print()\n",
        "a.menu_select()\n",
        "a.table()\n",
        "a.pay()"
      ]
    },
    {
      "cell_type": "code",
      "source": [
        "회고 : 너무 어렵다. 하지만 자꾸 보니 눈에 들어오고 손으로 쳐보니 하나, 둘씩 느는 것 같다. 언젠가는 나도 잘 하겠지"
      ],
      "metadata": {
        "id": "zWBMIYOhBkNM"
      },
      "execution_count": null,
      "outputs": []
    },
    {
      "cell_type": "code",
      "source": [],
      "metadata": {
        "id": "dhFuNth2Cfq2"
      },
      "execution_count": null,
      "outputs": []
    },
    {
      "cell_type": "code",
      "source": [],
      "metadata": {
        "id": "Ftr_tfDeBkdF"
      },
      "execution_count": null,
      "outputs": []
    },
    {
      "cell_type": "code",
      "source": [],
      "metadata": {
        "id": "2hjYQddxBkst"
      },
      "execution_count": null,
      "outputs": []
    }
  ]
}